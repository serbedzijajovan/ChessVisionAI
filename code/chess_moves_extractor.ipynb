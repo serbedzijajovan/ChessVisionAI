{
 "cells": [
  {
   "cell_type": "code",
<<<<<<< HEAD
   "execution_count": 97,
   "metadata": {},
=======
   "execution_count": 141,
   "metadata": {
    "ExecuteTime": {
     "end_time": "2024-01-29T18:48:59.104954Z",
     "start_time": "2024-01-29T18:48:59.096983Z"
    }
   },
>>>>>>> c7f19c9 (WIP)
   "outputs": [],
   "source": [
    "\n",
    "import os\n",
    "\n",
    "import cv2  # OpenCV\n",
    "import matplotlib.pyplot as plt\n",
    "import numpy as np\n",
    "from sklearn.svm import SVC  # SVM klasifikator\n",
    "from config import DATA_PATH, RAW_DATA_PATH\n",
    "%matplotlib inline"
   ]
  },
  {
   "cell_type": "code",
<<<<<<< HEAD
   "execution_count": 98,
   "metadata": {},
=======
   "execution_count": 142,
   "metadata": {
    "ExecuteTime": {
     "end_time": "2024-01-29T18:48:59.123083Z",
     "start_time": "2024-01-29T18:48:59.106915Z"
    }
   },
>>>>>>> c7f19c9 (WIP)
   "outputs": [],
   "source": [
    "def load_image(path):\n",
    "    return cv2.cvtColor(cv2.imread(path), cv2.COLOR_BGR2RGB)\n",
    "\n",
    "\n",
    "def display_image(image):\n",
    "    plt.figure()\n",
    "    plt.imshow(image)"
   ]
  },
  {
   "cell_type": "markdown",
   "source": [],
   "metadata": {
    "collapsed": false
   }
  },
  {
   "cell_type": "markdown",
   "metadata": {},
   "source": [
    "### HOG"
   ]
  },
  {
   "cell_type": "code",
<<<<<<< HEAD
   "execution_count": 99,
   "metadata": {},
=======
   "execution_count": 143,
   "metadata": {
    "ExecuteTime": {
     "end_time": "2024-01-29T18:48:59.132343Z",
     "start_time": "2024-01-29T18:48:59.124959Z"
    }
   },
>>>>>>> c7f19c9 (WIP)
   "outputs": [],
   "source": [
    "def get_hog():\n",
    "    img_size = (90, 90)\n",
    "    nbins = 9\n",
    "    cell_size = (8, 8)\n",
    "    block_size = (3, 3)\n",
    "    hog = cv2.HOGDescriptor(_winSize=(img_size[1] // cell_size[1] * cell_size[1],\n",
    "                                      img_size[0] // cell_size[0] * cell_size[0]),\n",
    "                            _blockSize=(block_size[1] * cell_size[1],\n",
    "                                        block_size[0] * cell_size[0]),\n",
    "                            _blockStride=(cell_size[1], cell_size[0]),\n",
    "                            _cellSize=(cell_size[1], cell_size[0]),\n",
    "                            _nbins=nbins)\n",
    "    return hog"
   ]
  },
  {
   "cell_type": "code",
<<<<<<< HEAD
   "execution_count": 100,
   "metadata": {},
=======
   "execution_count": 144,
   "metadata": {
    "ExecuteTime": {
     "end_time": "2024-01-29T18:48:59.136870Z",
     "start_time": "2024-01-29T18:48:59.128345Z"
    }
   },
>>>>>>> c7f19c9 (WIP)
   "outputs": [],
   "source": [
    "def get_features_and_labels(hog, train_dir):\n",
    "    features = []\n",
    "    labels = []\n",
    "    for i in range(100):\n",
    "        if i % 100 == 0:\n",
    "            print(i)\n",
    "        for img_name in os.listdir(train_dir):\n",
    "            img_path = os.path.join(train_dir, img_name)\n",
    "            img = load_image(img_path)\n",
    "            features.append(hog.compute(img))\n",
    "            if img_name[0] == 'b':\n",
    "                labels.append(img_name[2])\n",
    "            elif img_name[0] == 'w':\n",
    "                labels.append(img_name[2].upper())\n",
    "            elif img_name[0] == 'e':\n",
    "                labels.append(img_name[0])\n",
    "\n",
    "    return np.array(features), np.array(labels)\n",
    "\n"
   ]
  },
  {
   "cell_type": "code",
<<<<<<< HEAD
   "execution_count": 101,
   "metadata": {},
=======
   "execution_count": 145,
   "metadata": {
    "ExecuteTime": {
     "end_time": "2024-01-29T18:48:59.139946Z",
     "start_time": "2024-01-29T18:48:59.130583Z"
    }
   },
>>>>>>> c7f19c9 (WIP)
   "outputs": [],
   "source": [
    "\n",
    "\n",
    "\n",
    "def train_classifier(x_train, y_train):\n",
    "    print(\"Treniranje klasifikatora...\")\n",
    "    classifier = SVC(kernel='linear', probability=True)\n",
    "    classifier.fit(x_train, y_train)\n",
    "\n",
    "    return classifier"
   ]
  },
  {
   "cell_type": "code",
<<<<<<< HEAD
   "execution_count": 102,
   "metadata": {},
=======
   "execution_count": 146,
   "metadata": {
    "ExecuteTime": {
     "end_time": "2024-01-29T18:49:02.645180Z",
     "start_time": "2024-01-29T18:48:59.134134Z"
    }
   },
>>>>>>> c7f19c9 (WIP)
   "outputs": [
    {
     "name": "stdout",
     "output_type": "stream",
     "text": [
<<<<<<< HEAD
      "0\n"
     ]
    },
    {
     "name": "stdout",
     "output_type": "stream",
     "text": [
=======
      "0\n",
>>>>>>> c7f19c9 (WIP)
      "Treniranje klasifikatora...\n"
     ]
    }
   ],
   "source": [
    "train_dir = f'{DATA_PATH}/pictures/'\n",
    "\n",
    "hog = get_hog()\n",
    "x_train, y_train = get_features_and_labels(hog, train_dir)\n",
    "\n",
<<<<<<< HEAD
    "classifier = train_classifier(x_train, y_train)\n"
=======
    "classifier = train_classifier(x_train, y_train)\n",
    "# print(classifier.predict_proba(hog.compute(load_image(f'{DATA_PATH}/pictures/b_b3.png')).reshape(1, -1)))"
>>>>>>> c7f19c9 (WIP)
   ]
  },
  {
   "cell_type": "markdown",
   "metadata": {},
   "source": [
    "### HOUGH"
   ]
  },
  {
   "cell_type": "code",
<<<<<<< HEAD
   "execution_count": 103,
   "metadata": {},
=======
   "execution_count": 147,
   "metadata": {
    "ExecuteTime": {
     "end_time": "2024-01-29T18:49:02.649648Z",
     "start_time": "2024-01-29T18:49:02.646973Z"
    }
   },
>>>>>>> c7f19c9 (WIP)
   "outputs": [],
   "source": [
    "def detect_lines(gray_img):\n",
    "    edges_img = cv2.Canny(gray_img, 50, 150, apertureSize=3)\n",
    "    # plt.imshow(edges_img, \"gray\")\n",
    "\n",
    "    min_line_length = 200\n",
    "    lines = cv2.HoughLinesP(image=edges_img, rho=1, theta=np.pi / 180, threshold=10, lines=np.array([]),\n",
    "                            minLineLength=min_line_length, maxLineGap=20)\n",
    "\n",
    "    lines[:, :, 1] = gray_img.shape[0] - lines[:, :, 1]\n",
    "    lines[:, :, 3] = gray_img.shape[0] - lines[:, :, 3]\n",
    "\n",
    "    lines = np.vstack([lines, [\n",
    "        [[0, 1, 719, 1]],\n",
    "        [[0, 721, 719, 721]],\n",
    "        [[-1, 1, -1, 720]],\n",
    "        [[719, 1, 719, 720]]\n",
    "    ]])\n",
    "    return lines\n"
   ]
  },
  {
   "cell_type": "code",
<<<<<<< HEAD
   "execution_count": 111,
   "metadata": {},
   "outputs": [],
   "source": [
    "def check_fields_similarity(frame_field, next_frame_field, classifier, hog, p=False):\n",
    "    \n",
    "    frame_field=cv2.resize(frame_field, (90,90),interpolation=cv2.INTER_NEAREST)\n",
    "    next_frame_field=cv2.resize(next_frame_field, (90,90),interpolation=cv2.INTER_NEAREST)\n",
    "    f1=classifier.predict(hog.compute(frame_field).reshape(1, -1))\n",
    "    f2=classifier.predict(hog.compute(next_frame_field).reshape(1, -1))\n",
    "    ff1=classifier.predict_proba(hog.compute(frame_field).reshape(1, -1))\n",
    "    ff2=classifier.predict_proba(hog.compute(next_frame_field).reshape(1, -1))\n",
    "    ind1=np.argmax(ff1)\n",
    "    ind2=np.argmax(ff2)\n",
    "    # if(p):\n",
    "    #     print(classifier.classes_)\n",
    "    #     plt.figure()\n",
    "    #     plt.imshow(frame_field)\n",
    "    #     plt.figure()\n",
    "    #     plt.imshow(next_frame_field)\n",
    "    #     plt.figure()\n",
    "    #     plt.imshow(load_image('../data/pictures/b_p2.png'))\n",
    "    #     train_img=load_image('../data/pictures/b_p2.png')\n",
    "    #     ff1=classifier.predict_proba(hog.compute(frame_field).reshape(1, -1))\n",
    "    #     ff2=classifier.predict_proba(hog.compute(next_frame_field).reshape(1, -1))\n",
    "    #     ff3=classifier.predict_proba(hog.compute(load_image('../data/pictures/b_p2.png')).reshape(1, -1))\n",
    "    #     print(f1, f2)\n",
    "    #     print(ff1,'\\n',ff2, '\\n', ff3)\n",
    "        \n",
    "    return (classifier.classes_[ind1], classifier.classes_[ind2])\n",
    "    return (f1[0], f2[0])\n",
    "    "
=======
   "execution_count": 148,
   "metadata": {
    "ExecuteTime": {
     "end_time": "2024-01-29T18:49:02.653579Z",
     "start_time": "2024-01-29T18:49:02.649859Z"
    }
   },
   "outputs": [],
   "source": [
    "def check_fields_similarity(frame_field, next_frame_field, classifier, hog, p=False):\n",
    "    frame_field = cv2.resize(frame_field, (90, 90), interpolation=cv2.INTER_NEAREST)\n",
    "    next_frame_field = cv2.resize(next_frame_field, (90, 90), interpolation=cv2.INTER_NEAREST)\n",
    "    f1 = classifier.predict(hog.compute(frame_field).reshape(1, -1))\n",
    "    f2 = classifier.predict(hog.compute(next_frame_field).reshape(1, -1))\n",
    "    return (f1[0], f2[0])\n"
>>>>>>> c7f19c9 (WIP)
   ]
  },
  {
   "cell_type": "markdown",
   "metadata": {},
   "source": [
    "### operacije"
   ]
  },
  {
   "cell_type": "code",
<<<<<<< HEAD
   "execution_count": 105,
   "metadata": {},
=======
   "execution_count": 149,
   "metadata": {
    "ExecuteTime": {
     "end_time": "2024-01-29T18:49:02.653942Z",
     "start_time": "2024-01-29T18:49:02.652175Z"
    }
   },
>>>>>>> c7f19c9 (WIP)
   "outputs": [],
   "source": [
    "def invert(similarities):\n",
    "    inverse = []\n",
    "    for i in range(8):\n",
    "        for j in range(8):\n",
    "            inverse.append(similarities[j * 8 + i])\n",
    "    return inverse"
   ]
  },
  {
   "cell_type": "code",
<<<<<<< HEAD
   "execution_count": 106,
   "metadata": {},
=======
   "execution_count": 150,
   "metadata": {
    "ExecuteTime": {
     "end_time": "2024-01-29T18:49:02.658156Z",
     "start_time": "2024-01-29T18:49:02.654749Z"
    }
   },
>>>>>>> c7f19c9 (WIP)
   "outputs": [],
   "source": [
    "def change_fem_row(row, idx, char):\n",
    "    full_row = ''\n",
    "    for c in row:\n",
    "        if '9' > c > '0':\n",
    "            full_row += 'e' * int(c)\n",
    "        else:\n",
    "            full_row += c\n",
    "    full_row = full_row[:idx] + char + full_row[idx + 1:]\n",
    "    row = ''\n",
    "    cons_e = 0\n",
    "    for c in full_row:\n",
    "        if c != 'e':\n",
    "            if cons_e != 0:\n",
    "                row += str(cons_e)\n",
    "                cons_e = 0\n",
    "            row += c\n",
    "        else:\n",
    "            cons_e += 1\n",
    "    if cons_e != 0:\n",
    "        row += str(cons_e)\n",
    "    return row"
   ]
  },
  {
   "cell_type": "code",
<<<<<<< HEAD
   "execution_count": 107,
   "metadata": {},
=======
   "execution_count": 151,
   "metadata": {
    "ExecuteTime": {
     "end_time": "2024-01-29T18:49:02.661802Z",
     "start_time": "2024-01-29T18:49:02.656165Z"
    }
   },
>>>>>>> c7f19c9 (WIP)
   "outputs": [],
   "source": [
    "def get_fem_format(fem, figure, start_iter, end_iter):\n",
    "    # rnbqkbnr/pppppppp/8/8/8/8/PPPPPPPP/RNBQKBNR w\n",
    "    fem_table = fem[:-2]\n",
    "    next_move = chr(217 - ord(fem[-1]))\n",
    "    rows = fem_table.split('/')\n",
    "    if figure in ['k', 'K'] and abs(start_iter // 8 - end_iter // 8) > 1:\n",
    "        #king\n",
    "        rows[start_iter % 8] = change_fem_row(rows[start_iter % 8], start_iter // 8, 'e')\n",
    "        rows[end_iter % 8] = change_fem_row(rows[end_iter % 8], end_iter // 8, figure)\n",
    "        #rook\n",
    "        rows[start_iter % 8] = change_fem_row(rows[start_iter % 8], 0 if end_iter < start_iter else 7, 'e')\n",
    "        rows[end_iter % 8] = change_fem_row(rows[end_iter % 8],\n",
    "                                            end_iter // 8 + 1 if end_iter < start_iter else end_iter // 8 - 1,\n",
    "                                            'r' if figure == 'k' else 'R')\n",
    "    else:\n",
    "        rows[start_iter % 8] = change_fem_row(rows[start_iter % 8], start_iter // 8, 'e')\n",
    "        rows[end_iter % 8] = change_fem_row(rows[end_iter % 8], end_iter // 8, figure)\n",
    "    new_fem = ''\n",
    "    for i in range(8):\n",
    "        new_fem += rows[i]\n",
    "        if i != 7:\n",
    "            new_fem += '/'\n",
    "    new_fem += ' ' + next_move\n",
    "    return new_fem"
   ]
  },
  {
   "cell_type": "markdown",
   "metadata": {},
   "source": [
    "### main"
   ]
  },
  {
   "cell_type": "code",
<<<<<<< HEAD
   "execution_count": 108,
   "metadata": {},
=======
   "execution_count": 152,
   "metadata": {
    "ExecuteTime": {
     "end_time": "2024-01-29T18:49:02.673016Z",
     "start_time": "2024-01-29T18:49:02.664853Z"
    }
   },
>>>>>>> c7f19c9 (WIP)
   "outputs": [],
   "source": [
    "def detect_moves(video_path, start_pos, lines, classifier, hog):\n",
    "    cap = cv2.VideoCapture(video_path)\n",
    "    cap.set(1, 0)\n",
    "    next_frame = start_pos\n",
    "    # lines.append()\n",
    "    moves = []\n",
    "    frames = 0\n",
    "    moves_count = 2\n",
    "    fem = \"rnbqkbnr/pppppppp/8/8/8/8/PPPPPPPP/RNBQKBNR w\"\n",
    "    castling = 'KQkq'\n",
    "    while True:\n",
    "        frame = next_frame\n",
    "        grabbed, next_frame = cap.read()\n",
    "\n",
    "        if not grabbed:\n",
    "            break\n",
    "        next_frame = cv2.cvtColor(next_frame, cv2.COLOR_BGR2RGB)\n",
    "\n",
    "        frames += 1\n",
    "        # if frames==17:\n",
    "        #     plt.figure()\n",
    "        #     plt.imshow(frame)\n",
    "        #     plt.figure()\n",
    "        #     plt.imshow(next_frame)\n",
    "\n",
<<<<<<< HEAD
    "        half_size=int(len(lines)/2)\n",
    "        iter=0\n",
    "\n",
    "        similarities=[]\n",
    "        differences=[]\n",
    "        for vert_line_ind in range(half_size-1):\n",
    "            for hor_line_ind in range(half_size-1):\n",
    "                x1=lines[half_size+hor_line_ind][0][0]+1\n",
    "                x2=lines[half_size+hor_line_ind+1][0][0]+1\n",
    "                y1=lines[vert_line_ind][0][1]-1\n",
    "                y2=lines[vert_line_ind+1][0][1]-1\n",
    "                # if frames==8 and 2<vert_line_ind<4 and 3<hor_line_ind<5:\n",
    "                #     f1, f2=check_fields_similarity(frame[x1:x2, y1:y2],next_frame[x1:x2, y1:y2], classifier, hog, True)\n",
    "                \n",
    "                f1, f2=check_fields_similarity(frame[x1:x2, y1:y2],next_frame[x1:x2, y1:y2], classifier, hog)\n",
    "                similarities.append(f1==f2)\n",
    "                if f1!=f2:\n",
    "                    # if frames==8:\n",
    "                    #     print(f1, f2, frames,'\\n')\n",
    "                    differences.append((f1,f2, iter))\n",
    "                    \n",
    "                iter+=1\n",
    "        if len(differences)==2:\n",
    "            if differences[0][1]=='e':\n",
    "                figure=differences[1][1]\n",
    "                start_iter=differences[0][2]\n",
    "                start_field=chr(ord('a') + differences[0][2]//8) +''+str(8-differences[0][2]%8)\n",
    "                end_iter=differences[1][2]\n",
    "                end_field=chr(ord('a') + differences[1][2]//8) +''+str(8-differences[1][2]%8)\n",
    "            elif differences[1][1]=='e':\n",
    "                figure=differences[0][1]\n",
    "                start_iter=differences[1][2]\n",
    "                start_field=chr(ord('a') + differences[1][2]//8) +''+str(8-differences[1][2]%8)\n",
    "                end_iter=differences[0][2]\n",
    "                end_field=chr(ord('a') + differences[0][2]//8) +''+str(8-differences[0][2]%8)\n",
    "        \n",
    "        if len(differences)==4:\n",
=======
    "        half_size = int(len(lines) / 2)\n",
    "        iter = 0\n",
    "\n",
    "        similarities = []\n",
    "        differences = []\n",
    "        for vert_line_ind in range(half_size - 1):\n",
    "            for hor_line_ind in range(half_size - 1):\n",
    "                x1 = lines[half_size + hor_line_ind][0][0] + 1\n",
    "                x2 = lines[half_size + hor_line_ind + 1][0][0] + 1\n",
    "                y1 = lines[vert_line_ind][0][1] - 1\n",
    "                y2 = lines[vert_line_ind + 1][0][1] - 1\n",
    "                f1, f2 = check_fields_similarity(frame[x1:x2, y1:y2], next_frame[x1:x2, y1:y2], classifier, hog)\n",
    "                similarities.append(f1 == f2)\n",
    "                if f1 != f2:\n",
    "                    # if frames==17:\n",
    "                    # print(f1, f2, frames,'\\n')\n",
    "                    differences.append((f1, f2, iter))\n",
    "\n",
    "                iter += 1\n",
    "        if len(differences) == 2:\n",
    "            if differences[0][1] == 'e':\n",
    "                figure = differences[0][0]\n",
    "                start_iter = differences[0][2]\n",
    "                start_field = chr(ord('a') + differences[0][2] // 8) + '' + str(8 - differences[0][2] % 8)\n",
    "                end_iter = differences[1][2]\n",
    "                end_field = chr(ord('a') + differences[1][2] // 8) + '' + str(8 - differences[1][2] % 8)\n",
    "            elif differences[1][1] == 'e':\n",
    "                figure = differences[1][0]\n",
    "                start_iter = differences[1][2]\n",
    "                start_field = chr(ord('a') + differences[1][2] // 8) + '' + str(8 - differences[1][2] % 8)\n",
    "                end_iter = differences[0][2]\n",
    "                end_field = chr(ord('a') + differences[0][2] // 8) + '' + str(8 - differences[0][2] % 8)\n",
    "\n",
    "        if len(differences) == 4:\n",
>>>>>>> c7f19c9 (WIP)
    "            for i in range(4):\n",
    "                if differences[i][0] in ['k', 'K'] and differences[i][1] == 'e':\n",
    "                    figure = differences[i][0]\n",
    "                    start_iter = differences[i][2]\n",
    "                    start_field = chr(ord('a') + differences[i][2] // 8) + '' + str(8 - differences[i][2] % 8)\n",
    "                elif differences[i][0] == 'e' and differences[i][1] in ['k', 'K']:\n",
    "                    end_iter = differences[i][2]\n",
    "                    end_field = chr(ord('a') + differences[i][2] // 8) + '' + str(8 - differences[i][2] % 8)\n",
    "\n",
    "        if 0 < len(differences) < 5:\n",
    "            similarities = invert(similarities)\n",
    "            fem = get_fem_format(fem, figure, start_iter, end_iter)\n",
    "            moves.append((start_field + end_field, fem + ' ' + castling + ' - 0 ' + str(moves_count // 2)))\n",
    "            moves_count += 1\n",
    "\n",
    "    return moves\n",
    "\n"
   ]
  },
  {
   "cell_type": "code",
   "outputs": [],
   "source": [
    "import glob\n",
    "\n",
    "\n",
    "def save_data(positions, moves, video):\n",
    "    \"\"\"\n",
    "    Save moves and positions to a .npy file.\n",
    "    \"\"\"\n",
    "    # Reshape moves and positions into 2D arrays (columns)\n",
    "    positions_array = np.array(positions).reshape(-1, 1)\n",
    "    moves_array = np.array(moves).reshape(-1, 1)\n",
    "    positions_and_moves = np.concatenate((positions_array, moves_array), axis=1)\n",
    "\n",
    "    np.save(f\"{RAW_DATA_PATH}/{video}.npy\", positions_and_moves)\n",
    "    print(\"Saved successfully\")"
   ],
   "metadata": {
    "collapsed": false,
    "ExecuteTime": {
     "end_time": "2024-01-29T18:49:02.673339Z",
     "start_time": "2024-01-29T18:49:02.667452Z"
    }
   },
   "execution_count": 153
  },
  {
   "cell_type": "code",
   "execution_count": 154,
   "metadata": {
    "ExecuteTime": {
     "end_time": "2024-01-29T18:51:55.646720Z",
     "start_time": "2024-01-29T18:49:02.670501Z"
    }
   },
   "outputs": [
    {
     "name": "stdout",
     "output_type": "stream",
     "text": [
<<<<<<< HEAD
      "board.gif\n",
      "board (1).gif\n",
      "p e 8 \n",
      "\n",
      "['B' 'K' 'N' 'P' 'Q' 'R' 'b' 'e' 'k' 'n' 'p' 'q' 'r']\n",
      "['P'] ['p']\n",
      "[[0.00557962 0.00352544 0.00536294 0.91541953 0.00339167 0.00513518\n",
      "  0.00407766 0.00566553 0.00258172 0.00366241 0.03928594 0.00280004\n",
      "  0.00351233]] \n",
      " [[0.00687237 0.00471945 0.00669916 0.0210402  0.00433133 0.00665426\n",
      "  0.00649676 0.00656355 0.00493832 0.00657992 0.91361354 0.00524986\n",
      "  0.00624128]] \n",
      " [[0.00232114 0.00130727 0.0015992  0.00545773 0.00109975 0.00198331\n",
      "  0.00312884 0.00318205 0.00173409 0.00180006 0.97268856 0.00136633\n",
      "  0.00233166]]\n",
      "P p 8 \n",
      "\n"
=======
      "board (1).gif\n",
      "Saved successfully\n",
      "board (10).gif\n",
      "Saved successfully\n",
      "board (11).gif\n",
      "Saved successfully\n",
      "board (12).gif\n",
      "Saved successfully\n",
      "board (13).gif\n",
      "Saved successfully\n",
      "board (14).gif\n",
      "Saved successfully\n",
      "board (15).gif\n",
      "Saved successfully\n",
      "board (16).gif\n",
      "Saved successfully\n",
      "board (17).gif\n",
      "Saved successfully\n",
      "board (18).gif\n",
      "Saved successfully\n",
      "board (19).gif\n",
      "Saved successfully\n",
      "board (2).gif\n",
      "Saved successfully\n",
      "board (20).gif\n",
      "Saved successfully\n",
      "board (21).gif\n",
      "Saved successfully\n",
      "board (22).gif\n",
      "Saved successfully\n",
      "board (23).gif\n",
      "Saved successfully\n",
      "board (24).gif\n",
      "Saved successfully\n",
      "board (25).gif\n",
      "Saved successfully\n",
      "board (26).gif\n",
      "Saved successfully\n",
      "board (27).gif\n",
      "Saved successfully\n",
      "board (28).gif\n",
      "Saved successfully\n",
      "board (29).gif\n",
      "Saved successfully\n",
      "board (3).gif\n",
      "Saved successfully\n",
      "board (4).gif\n",
      "Saved successfully\n",
      "board (5).gif\n",
      "Saved successfully\n",
      "board (6).gif\n",
      "Saved successfully\n",
      "board (7).gif\n",
      "Saved successfully\n",
      "board (8).gif\n",
      "Saved successfully\n",
      "board (9).gif\n",
      "Saved successfully\n",
      "board.gif\n",
      "Saved successfully\n"
>>>>>>> c7f19c9 (WIP)
     ]
    }
   ],
   "source": [
    "\n",
    "\n",
    "start_pos_img = load_image(f'{DATA_PATH}/start1.png')\n",
    "output_file_path = f'{DATA_PATH}/moves.txt'\n",
    "lines = detect_lines(start_pos_img)\n",
    "lines = sorted(lines, key=lambda line: (line[0][0], line[0][1]))\n",
    "first_line = lines.pop(0)\n",
    "\n",
    "lines.insert(9, first_line)\n",
    "\n",
    "video_dir = f'{DATA_PATH}/videos/'\n",
    "with open(output_file_path, 'w'):\n",
    "    pass\n",
    "\n",
    "with open(output_file_path, 'a') as file:\n",
    "    for video in sorted(os.listdir(video_dir)):\n",
    "        print(video)\n",
    "        video_path = os.path.join(video_dir, video)\n",
    "        positions_and_moves = detect_moves(video_path, start_pos_img, lines, classifier, hog)\n",
    "\n",
    "        positions = []\n",
    "        moves = []\n",
    "\n",
    "        for (move, position) in positions_and_moves:\n",
    "            positions.append(position)\n",
    "            moves.append(move)\n",
    "\n",
    "        save_data(positions, moves, video.split('.')[0])\n"
   ]
  }
 ],
 "metadata": {
  "kernelspec": {
   "display_name": "venv",
   "language": "python",
   "name": "python3"
  },
  "language_info": {
   "codemirror_mode": {
    "name": "ipython",
    "version": 3
   },
   "file_extension": ".py",
   "mimetype": "text/x-python",
   "name": "python",
   "nbconvert_exporter": "python",
   "pygments_lexer": "ipython3",
   "version": "3.11.6"
  }
 },
 "nbformat": 4,
 "nbformat_minor": 2
}
