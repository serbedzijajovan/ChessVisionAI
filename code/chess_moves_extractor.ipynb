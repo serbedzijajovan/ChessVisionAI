{
 "cells": [
  {
   "cell_type": "code",
   "execution_count": 193,
   "metadata": {},
   "outputs": [],
   "source": [
    "from sklearn import datasets\n",
    "import os\n",
    "import numpy as np\n",
    "import cv2 # OpenCV\n",
    "from sklearn.svm import SVC # SVM klasifikator\n",
    "from sklearn.metrics import accuracy_score\n",
    "from sklearn.model_selection import train_test_split\n",
    "from sklearn.neighbors import KNeighborsClassifier # KNN\n",
    "import matplotlib.pyplot as plt\n",
    "%matplotlib inline"
   ]
  },
  {
   "cell_type": "code",
   "execution_count": 194,
   "metadata": {},
   "outputs": [],
   "source": [
    "def load_image(path):\n",
    "    return cv2.cvtColor(cv2.imread(path), cv2.COLOR_BGR2RGB)\n",
    "\n",
    "def display_image(image):\n",
    "    plt.figure()\n",
    "    plt.imshow(image)"
   ]
  },
  {
   "cell_type": "markdown",
   "metadata": {},
   "source": [
    "### HOG"
   ]
  },
  {
   "cell_type": "code",
   "execution_count": 195,
   "metadata": {},
   "outputs": [],
   "source": [
    "def get_hog():\n",
    "    img_size = (90, 90)\n",
    "    nbins = 9\n",
    "    cell_size = (8, 8)\n",
    "    block_size = (3, 3)\n",
    "    hog = cv2.HOGDescriptor(_winSize=(img_size[1] // cell_size[1] * cell_size[1],\n",
    "                                      img_size[0] // cell_size[0] * cell_size[0]),\n",
    "                            _blockSize=(block_size[1] * cell_size[1],\n",
    "                                        block_size[0] * cell_size[0]),\n",
    "                            _blockStride=(cell_size[1], cell_size[0]),\n",
    "                            _cellSize=(cell_size[1], cell_size[0]),\n",
    "                            _nbins=nbins)\n",
    "    return hog"
   ]
  },
  {
   "cell_type": "code",
   "execution_count": 196,
   "metadata": {},
   "outputs": [],
   "source": [
    "def get_features_and_labels(hog, train_dir):\n",
    "    features=[]\n",
    "    labels = []\n",
    "    for i in range(100):\n",
    "        if i%100==0:\n",
    "            print(i)\n",
    "        for img_name in os.listdir(train_dir):\n",
    "            img_path = os.path.join(train_dir, img_name)\n",
    "            img = load_image(img_path)\n",
    "            features.append(hog.compute(img))\n",
    "            if img_name[0]=='b':\n",
    "                labels.append(img_name[2])\n",
    "            elif img_name[0]=='w':\n",
    "                labels.append(img_name[2].upper())\n",
    "            elif img_name[0]=='e':\n",
    "                labels.append(img_name[0])\n",
    "        \n",
    "    return np.array(features), np.array(labels)\n",
    "    \n",
    "    "
   ]
  },
  {
   "cell_type": "code",
   "execution_count": 197,
   "metadata": {},
   "outputs": [],
   "source": [
    "from sklearn.svm import LinearSVC\n",
    "from sklearn.metrics import accuracy_score\n",
    "\n",
    "def train_classifier(x_train, y_train):\n",
    "    \n",
    "    print(\"Treniranje klasifikatora...\")\n",
    "    classifier = SVC(kernel='linear', probability=True)\n",
    "    classifier.fit(x_train, y_train)\n",
    "    \n",
    "    return classifier"
   ]
  },
  {
   "cell_type": "code",
   "execution_count": 198,
   "metadata": {},
   "outputs": [
    {
     "name": "stdout",
     "output_type": "stream",
     "text": [
      "0\n"
     ]
    },
    {
     "name": "stdout",
     "output_type": "stream",
     "text": [
      "Treniranje klasifikatora...\n",
      "[[1.45451346e-03 6.63436123e-04 1.06625875e-03 5.83967575e-04\n",
      "  9.86256767e-04 8.25293393e-04 9.88134111e-01 5.77137937e-04\n",
      "  8.94255684e-04 1.60831940e-03 6.71976987e-04 1.28904573e-03\n",
      "  1.24542684e-03]]\n"
     ]
    }
   ],
   "source": [
    "train_dir='../data/pictures/'\n",
    "\n",
    "hog = get_hog()\n",
    "x_train, y_train = get_features_and_labels(hog, train_dir)\n",
    "\n",
    "classifier = train_classifier(x_train, y_train)\n",
    "print(classifier.predict_proba(hog.compute(load_image('../data/pictures/b_b3.png')).reshape(1, -1)))"
   ]
  },
  {
   "cell_type": "markdown",
   "metadata": {},
   "source": [
    "### HOUGH"
   ]
  },
  {
   "cell_type": "code",
   "execution_count": 199,
   "metadata": {},
   "outputs": [],
   "source": [
    "def detect_lines(gray_img):\n",
    "    \n",
    "    edges_img = cv2.Canny(gray_img, 50, 150, apertureSize=3)\n",
    "    # plt.imshow(edges_img, \"gray\")\n",
    "   \n",
    "    min_line_length = 200\n",
    "    lines = cv2.HoughLinesP(image=edges_img, rho=1, theta=np.pi/180, threshold=10, lines=np.array([]),\n",
    "                            minLineLength=min_line_length, maxLineGap=20)\n",
    "\n",
    "    lines[:, :, 1]=gray_img.shape[0] - lines[:, :, 1]\n",
    "    lines[:, :, 3]=gray_img.shape[0] - lines[:, :, 3]\n",
    "\n",
    "    \n",
    "    lines = np.vstack([lines, [\n",
    "        [[0, 1, 719, 1]],\n",
    "        [[0, 721, 719, 721]],\n",
    "        [[-1, 1, -1, 720]],\n",
    "        [[719, 1, 719, 720]]\n",
    "    ]])\n",
    "    return lines\n",
    "    "
   ]
  },
  {
   "cell_type": "code",
   "execution_count": 200,
   "metadata": {},
   "outputs": [],
   "source": [
    "def check_fields_similarity(frame_field, next_frame_field, classifier, hog, p=False):\n",
    "    frame_field=cv2.resize(frame_field, (90,90),interpolation=cv2.INTER_NEAREST)\n",
    "    next_frame_field=cv2.resize(next_frame_field, (90,90),interpolation=cv2.INTER_NEAREST)\n",
    "    f1=classifier.predict(hog.compute(frame_field).reshape(1, -1))\n",
    "    f2=classifier.predict(hog.compute(next_frame_field).reshape(1, -1))\n",
    "    return (f1[0], f2[0])\n",
    "    "
   ]
  },
  {
   "cell_type": "markdown",
   "metadata": {},
   "source": [
    "### operacije"
   ]
  },
  {
   "cell_type": "code",
   "execution_count": 201,
   "metadata": {},
   "outputs": [],
   "source": [
    "def invert(similarities):\n",
    "    inverse=[]\n",
    "    for i in range (8):\n",
    "        for j in range(8):\n",
    "            inverse.append(similarities[j*8+i])\n",
    "    return inverse"
   ]
  },
  {
   "cell_type": "code",
   "execution_count": 202,
   "metadata": {},
   "outputs": [],
   "source": [
    "def change_fem_row(row, idx, char):\n",
    "    full_row=''\n",
    "    for c in row:\n",
    "        if '9'>c>'0':\n",
    "            full_row+='e'*int(c)\n",
    "        else:\n",
    "            full_row+=c\n",
    "    full_row=full_row[:idx]+char+full_row[idx+1:]\n",
    "    row=''\n",
    "    cons_e=0\n",
    "    for c in full_row:\n",
    "        if c!='e':\n",
    "            if cons_e!=0:\n",
    "                row+=str(cons_e)\n",
    "                cons_e=0\n",
    "            row+=c\n",
    "        else:\n",
    "            cons_e+=1\n",
    "    if cons_e!=0:\n",
    "        row+=str(cons_e)\n",
    "    return row"
   ]
  },
  {
   "cell_type": "code",
   "execution_count": 203,
   "metadata": {},
   "outputs": [],
   "source": [
    "def get_fem_format(fem, figure, start_iter, end_iter):\n",
    "    # rnbqkbnr/pppppppp/8/8/8/8/PPPPPPPP/RNBQKBNR w\n",
    "    fem_table=fem[:-2]\n",
    "    next_move=chr(217-ord(fem[-1]))\n",
    "    rows=fem_table.split('/')\n",
    "    if figure in ['k','K'] and abs(start_iter//8-end_iter//8)>1:\n",
    "        #king\n",
    "        rows[start_iter%8]=change_fem_row(rows[start_iter%8], start_iter//8, 'e')\n",
    "        rows[end_iter%8]=change_fem_row(rows[end_iter%8], end_iter//8, figure)\n",
    "        #rook\n",
    "        rows[start_iter%8]=change_fem_row(rows[start_iter%8], 0 if end_iter<start_iter else 7, 'e')\n",
    "        rows[end_iter%8]=change_fem_row(rows[end_iter%8], end_iter//8+1 if end_iter<start_iter else end_iter//8-1, 'r' if figure=='k' else 'R' )\n",
    "    else: \n",
    "        rows[start_iter%8]=change_fem_row(rows[start_iter%8], start_iter//8, 'e')\n",
    "        rows[end_iter%8]=change_fem_row(rows[end_iter%8], end_iter//8, figure)\n",
    "    new_fem=''\n",
    "    for i in range(8):\n",
    "        new_fem+=rows[i]\n",
    "        if i!=7:\n",
    "            new_fem+='/'\n",
    "    new_fem+=' '+next_move\n",
    "    return new_fem"
   ]
  },
  {
   "cell_type": "markdown",
   "metadata": {},
   "source": [
    "### main"
   ]
  },
  {
   "cell_type": "code",
   "execution_count": 204,
   "metadata": {},
   "outputs": [],
   "source": [
    "def detect_moves(video_path,start_pos,lines,classifier,hog):\n",
    "    cap = cv2.VideoCapture(video_path)\n",
    "    cap.set(1,0)\n",
    "    next_frame=start_pos\n",
    "    # lines.append()\n",
    "    moves=[]\n",
    "    frames=0\n",
    "    moves_count=2\n",
    "    fem=\"rnbqkbnr/pppppppp/8/8/8/8/PPPPPPPP/RNBQKBNR w\"\n",
    "    castling='KQkq'\n",
    "    while True:\n",
    "        frame=next_frame\n",
    "        grabbed, next_frame= cap.read()\n",
    "        \n",
    "        if not grabbed:\n",
    "            break\n",
    "        next_frame=cv2.cvtColor(next_frame, cv2.COLOR_BGR2RGB)\n",
    "\n",
    "        frames+=1\n",
    "        # if frames==17:\n",
    "        #     plt.figure()\n",
    "        #     plt.imshow(frame)\n",
    "        #     plt.figure()\n",
    "        #     plt.imshow(next_frame)\n",
    "\n",
    "        half_size=int(len(lines)/2)\n",
    "        iter=0\n",
    "\n",
    "        similarities=[]\n",
    "        differences=[]\n",
    "        for vert_line_ind in range(half_size-1):\n",
    "            for hor_line_ind in range(half_size-1):\n",
    "                x1=lines[half_size+hor_line_ind][0][0]+1\n",
    "                x2=lines[half_size+hor_line_ind+1][0][0]+1\n",
    "                y1=lines[vert_line_ind][0][1]-1\n",
    "                y2=lines[vert_line_ind+1][0][1]-1\n",
    "                f1, f2=check_fields_similarity(frame[x1:x2, y1:y2],next_frame[x1:x2, y1:y2], classifier, hog)\n",
    "                similarities.append(f1==f2)\n",
    "                if f1!=f2:\n",
    "                    # if frames==17:\n",
    "                        # print(f1, f2, frames,'\\n')\n",
    "                    differences.append((f1,f2, iter))\n",
    "                    \n",
    "                iter+=1\n",
    "        if len(differences)==2:\n",
    "            if differences[0][1]=='e':\n",
    "                figure=differences[0][0]\n",
    "                start_iter=differences[0][2]\n",
    "                start_field=chr(ord('a') + differences[0][2]//8) +''+str(8-differences[0][2]%8)\n",
    "                end_iter=differences[1][2]\n",
    "                end_field=chr(ord('a') + differences[1][2]//8) +''+str(8-differences[1][2]%8)\n",
    "            elif differences[1][1]=='e':\n",
    "                figure=differences[1][0]\n",
    "                start_iter=differences[1][2]\n",
    "                start_field=chr(ord('a') + differences[1][2]//8) +''+str(8-differences[1][2]%8)\n",
    "                end_iter=differences[0][2]\n",
    "                end_field=chr(ord('a') + differences[0][2]//8) +''+str(8-differences[0][2]%8)\n",
    "        \n",
    "        if len(differences)==4:\n",
    "            for i in range(4):\n",
    "                if differences[i][0] in ['k','K'] and differences[i][1]=='e':\n",
    "                    figure=differences[i][0]\n",
    "                    start_iter=differences[i][2]\n",
    "                    start_field=chr(ord('a') + differences[i][2]//8) +''+str(8-differences[i][2]%8)\n",
    "                elif differences[i][0]=='e' and differences[i][1] in ['k','K']:\n",
    "                    end_iter=differences[i][2]\n",
    "                    end_field=chr(ord('a') + differences[i][2]//8) +''+str(8-differences[i][2]%8)\n",
    "            \n",
    "            if start_iter%8==0 and end_iter%8==0:\n",
    "                if abs(start_iter//8-end_iter//8)==2:\n",
    "                    castling=castling[:2]+'-'+castling[3:]\n",
    "                elif abs(start_iter//8-end_iter//8)==3:\n",
    "                    castling=castling[:3]+'-'\n",
    "            else:\n",
    "                if abs(start_iter//8-end_iter//8)==2:\n",
    "                    castling='-'+castling[1:]\n",
    "                elif abs(start_iter//8-end_iter//8)==3:\n",
    "                    castling=castling[:1]+'-'+castling[2:]\n",
    "\n",
    "        if 0<len(differences)<5:\n",
    "            similarities=invert(similarities)\n",
    "            fem=get_fem_format(fem, figure, start_iter, end_iter)\n",
    "            moves.append((start_field+end_field, fem+' '+castling+' - 0 '+str(moves_count//2)))\n",
    "            moves_count+=1\n",
    "        \n",
    "\n",
    "    return moves\n",
    "\n",
    "        "
   ]
  },
  {
   "cell_type": "code",
   "execution_count": 205,
   "metadata": {},
   "outputs": [
    {
     "name": "stdout",
     "output_type": "stream",
     "text": [
      "19.mp4\n"
     ]
    }
   ],
   "source": [
    "start_pos_img=load_image('../data/start.png')\n",
    "output_file_path='../data/moves.txt'\n",
    "lines=detect_lines(start_pos_img)\n",
    "lines = sorted(lines, key=lambda line: (line[0][0], line[0][1]))\n",
    "first_line = lines.pop(0)\n",
    "\n",
    "lines.insert(9, first_line)\n",
    "\n",
    "\n",
    "\n",
    "video_dir='../data/videos/'\n",
    "with open(output_file_path, 'w'):\n",
    "    pass\n",
    "with open(output_file_path, 'a') as file:\n",
    "        for video in os.listdir(video_dir):\n",
    "        # video='19.mp4'\n",
    "            print(video)\n",
    "            video_path = os.path.join(video_dir, video)\n",
    "            moves=detect_moves(video_path,start_pos_img, lines, classifier, hog)\n",
    "            for move in moves:\n",
    "                    file.write(f\"{move[0]}, {move[1]}\\n\")\n"
   ]
  }
 ],
 "metadata": {
  "kernelspec": {
   "display_name": "venv",
   "language": "python",
   "name": "python3"
  },
  "language_info": {
   "codemirror_mode": {
    "name": "ipython",
    "version": 3
   },
   "file_extension": ".py",
   "mimetype": "text/x-python",
   "name": "python",
   "nbconvert_exporter": "python",
   "pygments_lexer": "ipython3",
   "version": "3.11.6"
  }
 },
 "nbformat": 4,
 "nbformat_minor": 2
}
