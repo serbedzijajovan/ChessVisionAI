{
 "cells": [
  {
   "cell_type": "code",
   "execution_count": 6,
   "metadata": {},
   "outputs": [],
   "source": [
    "import numpy as np\n",
    "import cv2\n",
    "import matplotlib.pyplot as plt\n",
    "%matplotlib inline"
   ]
  },
  {
   "cell_type": "code",
   "execution_count": 7,
   "metadata": {},
   "outputs": [],
   "source": [
    "def load_image(path):\n",
    "    return cv2.cvtColor(cv2.imread(path), cv2.COLOR_BGR2RGB)\n",
    "\n",
    "def display_image(image):\n",
    "    plt.figure()\n",
    "    plt.imshow(image, 'gray')"
   ]
  },
  {
   "cell_type": "code",
   "execution_count": 8,
   "metadata": {},
   "outputs": [],
   "source": [
    "def get_specific_frames(video_path):\n",
    "    start_pos_img=load_image('../data/start.png')\n",
    "    frames=[]\n",
    "    frame_nums=[0, 93, 111]\n",
    "    cap = cv2.VideoCapture(video_path)\n",
    "    for frame_num in frame_nums:        \n",
    "        cap.set(1,frame_num)\n",
    "        _, frame= cap.read()\n",
    "        frames.append(frame)\n",
    "\n",
    "    return frames\n"
   ]
  },
  {
   "cell_type": "code",
   "execution_count": 9,
   "metadata": {},
   "outputs": [],
   "source": [
    "def crop_to_images(frames, frame2_letter_pos, frame3_letter_pos):\n",
    "    # letters=['r','n','b','q','k','p','R','N','B','Q','K','P']\n",
    "    letter_pos={'b_r':[(0,0),(0,7)], 'b_n':[(0,1),(0,6)], 'b_b':[(0,2),(0,5)],\n",
    "               'b_q':[(0,3)], 'b_k':[(0,4)], 'b_p':[(1,3),(1,4)],\n",
    "               'w_r':[(7,0),(7,7)], 'w_n':[(7,1),(7,6)], 'w_b':[(7,2),(7,5)],\n",
    "               'w_q':[(7,3)], 'w_k':[(7,4)], 'w_p':[(6,3),(6,4)], 'e':[(4,4),(4,5)]}\n",
    "    field_size=90\n",
    "    for letter in letter_pos:\n",
    "        for i in range(len(letter_pos[letter])):\n",
    "            x=letter_pos[letter][i][0]*field_size\n",
    "            y=letter_pos[letter][i][1]*field_size\n",
    "            piece=frames[0][x:x+field_size,y:y+field_size]\n",
    "            cv2.imwrite('../data/pictures/'+letter+str(2*i)+'.png', piece)\n",
    "            # piece=frames[1][x:x+field_size,y:y+field_size]\n",
    "            # cv2.imwrite('../data/pictures/'+letter+str(2*i+1)+'.png', piece)\n",
    "    for letter in frame2_letter_pos:\n",
    "        x=frame2_letter_pos[letter][0][0]*field_size\n",
    "        y=frame2_letter_pos[letter][0][1]*field_size\n",
    "        piece=frames[1][x:x+field_size,y:y+field_size]\n",
    "        cv2.imwrite('../data/pictures/'+letter+'2'+'.png', piece)\n",
    "    for letter in frame3_letter_pos:\n",
    "        x=frame3_letter_pos[letter][0][0]*field_size\n",
    "        y=frame3_letter_pos[letter][0][1]*field_size\n",
    "        piece=frames[2][x:x+field_size,y:y+field_size]\n",
    "        cv2.imwrite('../data/pictures/'+letter+'2'+'.png', piece)"
   ]
  },
  {
   "cell_type": "code",
   "execution_count": 11,
   "metadata": {},
   "outputs": [],
   "source": [
    "frames=get_specific_frames(\"../data/game0.mp4\")\n",
    "crop_to_images(frames, {'b_k':[(1,6)],'w_k':[(6,6)],'w_q':[(7,4)]},{'b_q':[(1,3)]})"
   ]
  }
 ],
 "metadata": {
  "kernelspec": {
   "display_name": "venv",
   "language": "python",
   "name": "python3"
  },
  "language_info": {
   "codemirror_mode": {
    "name": "ipython",
    "version": 3
   },
   "file_extension": ".py",
   "mimetype": "text/x-python",
   "name": "python",
   "nbconvert_exporter": "python",
   "pygments_lexer": "ipython3",
   "version": "3.11.6"
  }
 },
 "nbformat": 4,
 "nbformat_minor": 2
}
